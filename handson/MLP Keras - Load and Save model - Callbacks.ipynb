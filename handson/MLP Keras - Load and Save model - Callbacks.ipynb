{
 "cells": [
  {
   "cell_type": "code",
   "execution_count": 1,
   "id": "failing-palmer",
   "metadata": {},
   "outputs": [],
   "source": [
    "from sklearn.datasets import fetch_california_housing\n",
    "from sklearn.model_selection import train_test_split\n",
    "from sklearn.preprocessing import StandardScaler\n",
    "import tensorflow as tf\n",
    "from tensorflow import keras"
   ]
  },
  {
   "cell_type": "code",
   "execution_count": 2,
   "id": "potential-martin",
   "metadata": {},
   "outputs": [],
   "source": [
    "#load no dataset\n",
    "housing = fetch_california_housing()\n",
    "X_train_full, X_test, y_train_full, y_test = train_test_split(housing.data, housing.target, test_size=0.3)\n",
    "X_train, X_valid, y_train, y_valid = train_test_split(X_train_full, y_train_full, test_size=0.3)"
   ]
  },
  {
   "cell_type": "code",
   "execution_count": 3,
   "id": "current-manchester",
   "metadata": {
    "scrolled": true
   },
   "outputs": [],
   "source": [
    "#Scalando as variáveis numéricas\n",
    "scaler = StandardScaler()\n",
    "X_train = scaler.fit_transform(X_train)\n",
    "X_valid = scaler.transform(X_valid)\n",
    "X_test = scaler.transform(X_test)"
   ]
  },
  {
   "cell_type": "code",
   "execution_count": 13,
   "id": "exciting-concept",
   "metadata": {},
   "outputs": [],
   "source": [
    "#Montando o modelo - utilizando apenas 1 output e sem função de ativação visto q queremos um valor. A loss é MSE\n",
    "model = keras.models.Sequential()\n",
    "model.add(keras.layers.Dense(units=30, activation='relu', input_shape=X_train.shape[1:]))\n",
    "model.add(keras.layers.Dense(units=1))"
   ]
  },
  {
   "cell_type": "code",
   "execution_count": 14,
   "id": "robust-jungle",
   "metadata": {},
   "outputs": [],
   "source": [
    "#compilando o modelo\n",
    "model.compile(loss='mean_squared_error', optimizer='sgd')"
   ]
  },
  {
   "cell_type": "code",
   "execution_count": 15,
   "id": "radical-reform",
   "metadata": {},
   "outputs": [
    {
     "name": "stdout",
     "output_type": "stream",
     "text": [
      "Epoch 1/20\n",
      "317/317 [==============================] - 1s 4ms/step - loss: 0.8363 - val_loss: 0.5431\n",
      "Epoch 2/20\n",
      "317/317 [==============================] - 1s 3ms/step - loss: 0.5259 - val_loss: 0.4912\n",
      "Epoch 3/20\n",
      "317/317 [==============================] - 1s 2ms/step - loss: 0.5067 - val_loss: 0.4961\n",
      "Epoch 4/20\n",
      "317/317 [==============================] - 1s 2ms/step - loss: 0.6298 - val_loss: 0.5005\n",
      "Epoch 5/20\n",
      "317/317 [==============================] - 1s 2ms/step - loss: 1.0389 - val_loss: 0.4804\n",
      "Epoch 6/20\n",
      "317/317 [==============================] - 1s 2ms/step - loss: 0.4607 - val_loss: 0.5612\n",
      "Epoch 7/20\n",
      "317/317 [==============================] - 1s 2ms/step - loss: 0.4394 - val_loss: 0.4308\n",
      "Epoch 8/20\n",
      "317/317 [==============================] - 1s 2ms/step - loss: 0.4229 - val_loss: 0.4104\n",
      "Epoch 9/20\n",
      "317/317 [==============================] - 1s 2ms/step - loss: 0.4142 - val_loss: 0.4131\n",
      "Epoch 10/20\n",
      "317/317 [==============================] - 1s 2ms/step - loss: 0.4078 - val_loss: 0.4032\n",
      "Epoch 11/20\n",
      "317/317 [==============================] - 1s 2ms/step - loss: 0.4063 - val_loss: 0.4289\n",
      "Epoch 12/20\n",
      "317/317 [==============================] - 1s 2ms/step - loss: 0.4032 - val_loss: 0.4022\n",
      "Epoch 13/20\n",
      "317/317 [==============================] - 1s 2ms/step - loss: 0.3974 - val_loss: 0.4331\n",
      "Epoch 14/20\n",
      "317/317 [==============================] - 1s 2ms/step - loss: 0.3977 - val_loss: 0.4397\n",
      "Epoch 15/20\n",
      "317/317 [==============================] - 1s 2ms/step - loss: 0.3943 - val_loss: 0.3905\n",
      "Epoch 16/20\n",
      "317/317 [==============================] - 1s 2ms/step - loss: 0.3957 - val_loss: 0.4258\n",
      "Epoch 17/20\n",
      "317/317 [==============================] - 1s 2ms/step - loss: 0.3896 - val_loss: 0.3898\n",
      "Epoch 18/20\n",
      "317/317 [==============================] - 1s 2ms/step - loss: 0.3867 - val_loss: 0.3893\n",
      "Epoch 19/20\n",
      "317/317 [==============================] - 1s 2ms/step - loss: 0.3884 - val_loss: 0.3833\n",
      "Epoch 20/20\n",
      "317/317 [==============================] - 1s 2ms/step - loss: 0.3869 - val_loss: 0.3806\n"
     ]
    }
   ],
   "source": [
    "#fitando o modelo\n",
    "history = model.fit(X_train, y_train, epochs=20, validation_data=(X_valid, y_valid))"
   ]
  },
  {
   "cell_type": "code",
   "execution_count": 16,
   "id": "meaning-disney",
   "metadata": {},
   "outputs": [
    {
     "name": "stdout",
     "output_type": "stream",
     "text": [
      "194/194 [==============================] - 0s 1ms/step - loss: 0.3746\n"
     ]
    }
   ],
   "source": [
    "#testando no hold-out\n",
    "mse_test = model.evaluate(X_test, y_test)"
   ]
  },
  {
   "cell_type": "code",
   "execution_count": 19,
   "id": "utility-assignment",
   "metadata": {
    "scrolled": true
   },
   "outputs": [
    {
     "data": {
      "text/plain": [
       "array([[2.405637 ],\n",
       "       [2.6174054],\n",
       "       [2.4074845]], dtype=float32)"
      ]
     },
     "execution_count": 19,
     "metadata": {},
     "output_type": "execute_result"
    }
   ],
   "source": [
    "#prevendo novos casos:\n",
    "X_new = X_test[:3]\n",
    "predict = model.predict(X_new)\n",
    "predict"
   ]
  },
  {
   "cell_type": "markdown",
   "id": "developmental-thickness",
   "metadata": {},
   "source": [
    "# Wide & Deep Neural Network Architecture - Functional API"
   ]
  },
  {
   "cell_type": "code",
   "execution_count": 21,
   "id": "secret-anger",
   "metadata": {},
   "outputs": [],
   "source": [
    "#Construindo um modelo wide & deep que liga os inputs ao ultimo layer antes do output e concatena para o output.\n",
    "input_ = keras.layers.Input(shape=X_train.shape[1:])\n",
    "hidden1 = keras.layers.Dense(30, activation='relu')(input_)\n",
    "hidden2 = keras.layers.Dense(30, activation='relu')(hidden1)\n",
    "concat = keras.layers.Concatenate()([input_,hidden2])\n",
    "output = keras.layers.Dense(1)(concat)\n",
    "model = keras.Model(inputs=[input_],outputs=[output])"
   ]
  },
  {
   "cell_type": "code",
   "execution_count": 23,
   "id": "checked-bishop",
   "metadata": {},
   "outputs": [],
   "source": [
    "model.compile(loss='mean_squared_error', optimizer='adam')"
   ]
  },
  {
   "cell_type": "code",
   "execution_count": 24,
   "id": "posted-lightweight",
   "metadata": {},
   "outputs": [
    {
     "name": "stdout",
     "output_type": "stream",
     "text": [
      "Epoch 1/30\n",
      "317/317 [==============================] - 1s 2ms/step - loss: 1.6488 - val_loss: 0.6045\n",
      "Epoch 2/30\n",
      "317/317 [==============================] - 0s 1ms/step - loss: 0.5377 - val_loss: 0.4641\n",
      "Epoch 3/30\n",
      "317/317 [==============================] - 0s 1ms/step - loss: 0.4499 - val_loss: 0.4171\n",
      "Epoch 4/30\n",
      "317/317 [==============================] - 0s 1ms/step - loss: 0.4357 - val_loss: 0.3993\n",
      "Epoch 5/30\n",
      "317/317 [==============================] - 0s 1ms/step - loss: 0.4065 - val_loss: 0.3937\n",
      "Epoch 6/30\n",
      "317/317 [==============================] - 0s 1ms/step - loss: 0.4116 - val_loss: 0.3763\n",
      "Epoch 7/30\n",
      "317/317 [==============================] - 0s 1ms/step - loss: 0.3890 - val_loss: 0.3742\n",
      "Epoch 8/30\n",
      "317/317 [==============================] - 0s 1ms/step - loss: 0.3809 - val_loss: 0.3627\n",
      "Epoch 9/30\n",
      "317/317 [==============================] - 0s 1ms/step - loss: 0.3703 - val_loss: 0.3658\n",
      "Epoch 10/30\n",
      "317/317 [==============================] - 0s 1ms/step - loss: 0.3704 - val_loss: 0.3609\n",
      "Epoch 11/30\n",
      "317/317 [==============================] - 0s 1ms/step - loss: 0.3675 - val_loss: 0.3503\n",
      "Epoch 12/30\n",
      "317/317 [==============================] - 0s 1ms/step - loss: 0.3713 - val_loss: 0.3500\n",
      "Epoch 13/30\n",
      "317/317 [==============================] - 0s 1ms/step - loss: 0.3576 - val_loss: 0.3479\n",
      "Epoch 14/30\n",
      "317/317 [==============================] - 0s 1ms/step - loss: 0.3511 - val_loss: 0.3356\n",
      "Epoch 15/30\n",
      "317/317 [==============================] - 0s 1ms/step - loss: 0.3372 - val_loss: 0.3377\n",
      "Epoch 16/30\n",
      "317/317 [==============================] - 0s 1ms/step - loss: 0.3382 - val_loss: 0.3417\n",
      "Epoch 17/30\n",
      "317/317 [==============================] - 0s 1ms/step - loss: 0.3353 - val_loss: 0.3274\n",
      "Epoch 18/30\n",
      "317/317 [==============================] - 0s 1ms/step - loss: 0.3350 - val_loss: 0.3252\n",
      "Epoch 19/30\n",
      "317/317 [==============================] - 0s 1ms/step - loss: 0.3300 - val_loss: 0.3237\n",
      "Epoch 20/30\n",
      "317/317 [==============================] - 0s 1ms/step - loss: 0.3246 - val_loss: 0.3149\n",
      "Epoch 21/30\n",
      "317/317 [==============================] - 0s 1ms/step - loss: 0.3184 - val_loss: 0.3172\n",
      "Epoch 22/30\n",
      "317/317 [==============================] - 0s 1ms/step - loss: 0.3180 - val_loss: 0.3615\n",
      "Epoch 23/30\n",
      "317/317 [==============================] - 0s 1ms/step - loss: 0.3282 - val_loss: 0.3208\n",
      "Epoch 24/30\n",
      "317/317 [==============================] - 0s 1ms/step - loss: 0.3256 - val_loss: 0.3167\n",
      "Epoch 25/30\n",
      "317/317 [==============================] - 0s 1ms/step - loss: 0.3103 - val_loss: 0.3085\n",
      "Epoch 26/30\n",
      "317/317 [==============================] - 0s 1ms/step - loss: 0.3112 - val_loss: 0.3097\n",
      "Epoch 27/30\n",
      "317/317 [==============================] - 0s 1ms/step - loss: 0.3090 - val_loss: 0.3097\n",
      "Epoch 28/30\n",
      "317/317 [==============================] - 0s 1ms/step - loss: 0.3040 - val_loss: 0.3092\n",
      "Epoch 29/30\n",
      "317/317 [==============================] - 0s 1ms/step - loss: 0.3061 - val_loss: 0.3089\n",
      "Epoch 30/30\n",
      "317/317 [==============================] - 0s 1ms/step - loss: 0.3024 - val_loss: 0.3078\n"
     ]
    }
   ],
   "source": [
    "history = model.fit(X_train, y_train, epochs=30, validation_data=(X_valid, y_valid))"
   ]
  },
  {
   "cell_type": "code",
   "execution_count": 25,
   "id": "working-scanning",
   "metadata": {
    "scrolled": true
   },
   "outputs": [
    {
     "name": "stdout",
     "output_type": "stream",
     "text": [
      "194/194 [==============================] - 0s 650us/step - loss: 0.3068\n"
     ]
    }
   ],
   "source": [
    "mse_test = model.evaluate(X_test, y_test)"
   ]
  },
  {
   "cell_type": "markdown",
   "id": "cheap-semester",
   "metadata": {},
   "source": [
    "# Save and Load model"
   ]
  },
  {
   "cell_type": "code",
   "execution_count": 26,
   "id": "living-joshua",
   "metadata": {},
   "outputs": [],
   "source": [
    "#salvando o modelo\n",
    "model.save('wide_and_deep_model.h5')"
   ]
  },
  {
   "cell_type": "code",
   "execution_count": 27,
   "id": "infrared-audience",
   "metadata": {},
   "outputs": [],
   "source": [
    "#dando load em modelo\n",
    "model_l = keras.models.load_model('wide_and_deep_model.h5')"
   ]
  },
  {
   "cell_type": "markdown",
   "id": "fuzzy-crime",
   "metadata": {},
   "source": [
    "# Callbacks para salvar treino (save_best_only = True para salvar melhor fit)"
   ]
  },
  {
   "cell_type": "code",
   "execution_count": 31,
   "id": "serious-upset",
   "metadata": {},
   "outputs": [],
   "source": [
    "checkpoint_cb = keras.callbacks.ModelCheckpoint('wide_and_deep_model.h5', save_best_only=True)"
   ]
  },
  {
   "cell_type": "code",
   "execution_count": 32,
   "id": "available-radiation",
   "metadata": {},
   "outputs": [
    {
     "name": "stdout",
     "output_type": "stream",
     "text": [
      "Epoch 1/30\n",
      "317/317 [==============================] - 1s 2ms/step - loss: 0.3080 - val_loss: 0.3091\n",
      "Epoch 2/30\n",
      "317/317 [==============================] - 0s 1ms/step - loss: 0.3085 - val_loss: 0.3077\n",
      "Epoch 3/30\n",
      "317/317 [==============================] - 0s 1ms/step - loss: 0.3139 - val_loss: 0.3006\n",
      "Epoch 4/30\n",
      "317/317 [==============================] - 0s 1ms/step - loss: 0.2982 - val_loss: 0.3006\n",
      "Epoch 5/30\n",
      "317/317 [==============================] - 0s 1ms/step - loss: 0.3009 - val_loss: 0.3101\n",
      "Epoch 6/30\n",
      "317/317 [==============================] - 0s 1ms/step - loss: 0.2938 - val_loss: 0.3117\n",
      "Epoch 7/30\n",
      "317/317 [==============================] - 0s 1ms/step - loss: 0.2973 - val_loss: 0.2980\n",
      "Epoch 8/30\n",
      "317/317 [==============================] - 0s 1ms/step - loss: 0.2927 - val_loss: 0.3167\n",
      "Epoch 9/30\n",
      "317/317 [==============================] - 0s 1ms/step - loss: 0.2937 - val_loss: 0.3035\n",
      "Epoch 10/30\n",
      "317/317 [==============================] - 0s 1ms/step - loss: 0.2989 - val_loss: 0.3040\n",
      "Epoch 11/30\n",
      "317/317 [==============================] - 0s 1ms/step - loss: 0.2989 - val_loss: 0.3016\n",
      "Epoch 12/30\n",
      "317/317 [==============================] - 0s 1ms/step - loss: 0.2903 - val_loss: 0.2998\n",
      "Epoch 13/30\n",
      "317/317 [==============================] - 0s 1ms/step - loss: 0.2883 - val_loss: 0.2999\n",
      "Epoch 14/30\n",
      "317/317 [==============================] - 0s 1ms/step - loss: 0.2869 - val_loss: 0.2961\n",
      "Epoch 15/30\n",
      "317/317 [==============================] - 0s 1ms/step - loss: 0.2873 - val_loss: 0.2970\n",
      "Epoch 16/30\n",
      "317/317 [==============================] - 0s 1ms/step - loss: 0.2888 - val_loss: 0.2995\n",
      "Epoch 17/30\n",
      "317/317 [==============================] - 0s 1ms/step - loss: 0.2859 - val_loss: 0.2963\n",
      "Epoch 18/30\n",
      "317/317 [==============================] - 0s 1ms/step - loss: 0.2889 - val_loss: 0.2941\n",
      "Epoch 19/30\n",
      "317/317 [==============================] - 0s 1ms/step - loss: 0.2829 - val_loss: 0.2963\n",
      "Epoch 20/30\n",
      "317/317 [==============================] - 0s 2ms/step - loss: 0.2825 - val_loss: 0.2917\n",
      "Epoch 21/30\n",
      "317/317 [==============================] - 0s 1ms/step - loss: 0.2814 - val_loss: 0.2970\n",
      "Epoch 22/30\n",
      "317/317 [==============================] - 0s 1ms/step - loss: 0.2791 - val_loss: 0.2957\n",
      "Epoch 23/30\n",
      "317/317 [==============================] - 0s 1ms/step - loss: 0.2867 - val_loss: 0.2953\n",
      "Epoch 24/30\n",
      "317/317 [==============================] - 0s 1ms/step - loss: 0.3163 - val_loss: 0.2917\n",
      "Epoch 25/30\n",
      "317/317 [==============================] - 0s 1ms/step - loss: 0.2860 - val_loss: 0.3027\n",
      "Epoch 26/30\n",
      "317/317 [==============================] - 0s 1ms/step - loss: 0.2844 - val_loss: 0.2924\n",
      "Epoch 27/30\n",
      "317/317 [==============================] - 0s 2ms/step - loss: 0.2771 - val_loss: 0.2890\n",
      "Epoch 28/30\n",
      "317/317 [==============================] - 0s 1ms/step - loss: 0.2737 - val_loss: 0.2946\n",
      "Epoch 29/30\n",
      "317/317 [==============================] - 0s 1ms/step - loss: 0.2745 - val_loss: 0.2875\n",
      "Epoch 30/30\n",
      "317/317 [==============================] - 0s 1ms/step - loss: 0.2746 - val_loss: 0.2968\n"
     ]
    }
   ],
   "source": [
    "history = model_l.fit(X_train, \n",
    "                      y_train, \n",
    "                      epochs=30, \n",
    "                      validation_data=(X_valid, y_valid),\n",
    "                      callbacks=[checkpoint_cb])"
   ]
  },
  {
   "cell_type": "code",
   "execution_count": null,
   "id": "painted-shaft",
   "metadata": {},
   "outputs": [],
   "source": []
  }
 ],
 "metadata": {
  "kernelspec": {
   "display_name": "book",
   "language": "python",
   "name": "book"
  },
  "language_info": {
   "codemirror_mode": {
    "name": "ipython",
    "version": 3
   },
   "file_extension": ".py",
   "mimetype": "text/x-python",
   "name": "python",
   "nbconvert_exporter": "python",
   "pygments_lexer": "ipython3",
   "version": "3.8.5"
  }
 },
 "nbformat": 4,
 "nbformat_minor": 5
}
